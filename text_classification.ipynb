{
 "cells": [
  {
   "cell_type": "code",
   "execution_count": 3,
   "metadata": {},
   "outputs": [
    {
     "name": "stdout",
     "output_type": "stream",
     "text": [
      "7944\n"
     ]
    }
   ],
   "source": [
    "import nltk\n",
    "from nltk.corpus import names\n",
    "# gender identification\n",
    "def gender_feature_last1(word):\n",
    "    return {\"last\": word[-1]}\n",
    "labeled_name = ([(name, 'male') for name in names.words('male.txt')] + [(name, 'female') for name in names.words('female.txt')])\n",
    "import random\n",
    "random.shuffle(labeled_name)\n",
    "features = [(gender_feature_last1(n), gender) for n, gender in labeled_name]\n",
    "print(len(features))"
   ]
  },
  {
   "cell_type": "code",
   "execution_count": 4,
   "metadata": {},
   "outputs": [
    {
     "name": "stdout",
     "output_type": "stream",
     "text": [
      "0.7690217391304348\n"
     ]
    }
   ],
   "source": [
    "train_set, test_set = features[:5000], features[5000:]\n",
    "classifier =nltk.NaiveBayesClassifier.train(train_set)\n",
    "print(nltk.classify.accuracy(classifier, test_set))"
   ]
  },
  {
   "cell_type": "code",
   "execution_count": 11,
   "metadata": {},
   "outputs": [
    {
     "name": "stdout",
     "output_type": "stream",
     "text": [
      "0.7819293478260869\n"
     ]
    }
   ],
   "source": [
    "def gender_feature_last2(word):\n",
    "    return {\"last\":word[-2:]}\n",
    "\n",
    "features = [(gender_feature_last2(n), gender) for n, gender in labeled_name]\n",
    "train_set, test_set = features[:5000], features[5000:]\n",
    "classifier =nltk.NaiveBayesClassifier.train(train_set)\n",
    "print(nltk.classify.accuracy(classifier, test_set))"
   ]
  },
  {
   "cell_type": "code",
   "execution_count": 12,
   "metadata": {},
   "outputs": [
    {
     "name": "stdout",
     "output_type": "stream",
     "text": [
      "0.8097826086956522\n"
     ]
    }
   ],
   "source": [
    "def gender_feature_last2_first2(word):\n",
    "    return {\"last\":word[-2:], \"first2\":word[:2]}\n",
    "\n",
    "features = [(gender_feature_last2_first2(n), gender) for n, gender in labeled_name]\n",
    "train_set, test_set = features[:5000], features[5000:]\n",
    "classifier =nltk.NaiveBayesClassifier.train(train_set)\n",
    "print(nltk.classify.accuracy(classifier, test_set))"
   ]
  },
  {
   "cell_type": "code",
   "execution_count": 39,
   "metadata": {},
   "outputs": [
    {
     "name": "stdout",
     "output_type": "stream",
     "text": [
      "feature set len:2000\n",
      "train accu for feature1: 0.8822222222222222\n",
      "test accu for feature1: 0.8\n"
     ]
    }
   ],
   "source": [
    "# document classification\n",
    "# Movie Review Corpus, positive or negative\n",
    "from nltk.corpus import movie_reviews\n",
    "documents = [(list(movie_reviews.words(fileid)), cate) \n",
    "             for cate in movie_reviews.categories() \n",
    "             for fileid  in movie_reviews.fileids(cate)]\n",
    "random.shuffle(documents)\n",
    "\n",
    "all_words = nltk.FreqDist(w.lower() for w in movie_reviews.words())\n",
    "word_feature = list(all_words)[:2000]\n",
    "\n",
    "def document_features1(document):\n",
    "    document_words = set(document)\n",
    "    features = {}\n",
    "    for word in word_feature:\n",
    "        features[\"contain({})\".format(word)] = (word in document_words)\n",
    "    return features\n",
    "\n",
    "\n",
    "featuresets = [(document_features1(d), c) for (d,c) in documents]\n",
    "print(\"feature set len:{}\".format(len(featuresets)))\n",
    "train_set, test_set = featuresets[:len(featuresets)*9//10], featuresets[len(featuresets)*9//10:]\n",
    "classifier = nltk.NaiveBayesClassifier.train(train_set)\n",
    "print(\"train accu for feature1: {}\".format(nltk.classify.accuracy(classifier, train_set)))\n",
    "print(\"test accu for feature1: {}\".format(nltk.classify.accuracy(classifier, test_set)))\n",
    "\n"
   ]
  },
  {
   "cell_type": "code",
   "execution_count": 38,
   "metadata": {},
   "outputs": [
    {
     "name": "stdout",
     "output_type": "stream",
     "text": [
      "feature set len:2000\n",
      "train accu for feature2: 0.9088888888888889\n",
      "test accu for feature2: 0.795\n"
     ]
    }
   ],
   "source": [
    "def document_features2(document):\n",
    "    document_words = nltk.FreqDist(w.lower() for w in document)\n",
    "    features = {}\n",
    "    for word in word_feature:\n",
    "        word = word.lower()\n",
    "        features[\"contain({})\".format(word)] = min(document_words.get(word, 0), 2)\n",
    "    return features\n",
    "featuresets = [(document_features2(d), c) for (d,c) in documents]\n",
    "print(\"feature set len:{}\".format(len(featuresets)))\n",
    "train_set, test_set = featuresets[:len(featuresets)*9//10], featuresets[len(featuresets)*9//10:]\n",
    "classifier = nltk.NaiveBayesClassifier.train(train_set)\n",
    "print(\"train accu for feature2: {}\".format(nltk.classify.accuracy(classifier, train_set)))\n",
    "print(\"test accu for feature2: {}\".format(nltk.classify.accuracy(classifier, test_set)))\n"
   ]
  }
 ],
 "metadata": {
  "kernelspec": {
   "display_name": "Python 3",
   "language": "python",
   "name": "python3"
  },
  "language_info": {
   "codemirror_mode": {
    "name": "ipython",
    "version": 3
   },
   "file_extension": ".py",
   "mimetype": "text/x-python",
   "name": "python",
   "nbconvert_exporter": "python",
   "pygments_lexer": "ipython3",
   "version": "3.6.4"
  }
 },
 "nbformat": 4,
 "nbformat_minor": 2
}
